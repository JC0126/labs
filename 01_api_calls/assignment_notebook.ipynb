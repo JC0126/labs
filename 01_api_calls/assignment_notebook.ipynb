{
  "cells": [
    {
      "cell_type": "markdown",
      "metadata": {
        "id": "Yi7xzykjgGP9"
      },
      "source": [
        "## Lab 1: Getting data from API's\n",
        "\n",
        "A great source of data and Pandas practice is getting data from the Internet. It is not going to come in a .csv file, though: It will be a stream of records, typically in XML (eXtensible Mark-up Language) or JSON (JavaScript Object Notation) format.\n",
        "\n",
        "We'll look at a very simple API and some useful code chunks for getting and analyzing data, and then you'll take a look at the APIs available from the Federal government as the main work for your lab.\n"
      ]
    },
    {
      "cell_type": "markdown",
      "metadata": {
        "id": "Ko09F0g3gGP-"
      },
      "source": [
        "## API Queries\n",
        "\n",
        "The core programming skill of the activity is to learn to query an online Application Programmer Interface (API). It is a similar experience to browsing the Internet, and initial results can be displayed the web browser. When visiting a web page, the address bar typically contains something like\n",
        "$$\n",
        "\\texttt{https://} \\underbrace{\\texttt{www.}}_{\\text{World Wide Web subdomain}} \\texttt{domain}. \\underbrace{\\texttt{tld}}_{\\text{Top level domain}},\n",
        "$$\n",
        "where the https:// specifies the protocol, www. specifies the world-wide-web subdomain, the domain is the entity, and the top-level domain .tld is typically something like .com or .gov, but is increasingly varied as ICANN releases more TLD's into circulation.\n",
        "\n",
        "With an online API, the user instead enters a url that goes directly to an API subdomain\n",
        "$$\n",
        "\\texttt{https://} \\underbrace{\\texttt{api.}}_{\\text{Application programmer interface}} \\texttt{domain.tld}/ \\texttt{(the query)}\n",
        "$$\n",
        "or accesses REST services as\n",
        "$$\n",
        "\\texttt{https://www.domain.tld} \\underbrace{\\texttt{/REST}}_{\\text{Accesses REST services}}/ \\texttt{(the query)}\n",
        "$$\n",
        "This accesses data on the domain's servers and returns the result directly to the user.\n",
        "\n",
        "The query itself is typically a string beginning with a question mark ?, followed by a series of expressions joined by ampersands &. For example,\n",
        "\n",
        "`?ProductType=Phone\\&Manufacturer=Apple`\n",
        "\n",
        "passes a query requesting all records for which the product type is recorded as phone and the manufacturer is recorded as Apple. Some API's include date ranges and other, more complex requests.\n",
        "\n",
        "To get started, a simple warm-up is to use the API from saferproducts.gov, which has a simple and intuitive structure for queries, and the results are simple enough to look at in the browser. Typing this in the address bar in a browser should yield about thirty records:\n",
        "\n",
        "    https://www.saferproducts.gov/RestWebServices/Recall?format=json&ProductType=Phone  \n",
        "\n",
        "with the first being, on this occasion:\n",
        "\n",
        "    \"RecallID\": 7856,\n",
        "    \"RecallNumber\": \"16266\",\n",
        "    \"RecallDate\": \"2016-09-15T00:00:00\",\n",
        "    \"Description\": \"This recall involves the Samsung Galaxy Note7 smartphone sold before\n",
        "    September 15, 2016. The recalled devices have a 5.7 inch screen and were sold in the\n",
        "    following colors: black onyx, blue coral, gold platinum and silver titanium with a\n",
        "    matching stylus. Samsung is printed on the top front of the phone and Galaxy Note7\n",
        "    is printed on the back of the phone. To determine if your phone has been recalled,\n",
        "    locate the IMEI number on the back of the phone or the packaging, and enter the IMEI\n",
        "    number into the online registration site www.samsung.com or call Samsung toll-free\n",
        "    at 844-365-6197.\",\n",
        "    \"URL\": \"https://www.cpsc.gov/Recalls/2016/Samsung-Recalls-Galaxy-Note7-Smartphones\",\n",
        "    \"Title\": \"Samsung Recalls Galaxy Note7 Smartphones Due to Serious Fire and Burn Hazards\",\n",
        "    \"ConsumerContact\": \"Contact your wireless carrier or place of purchase, call Samsung\n",
        "    toll-free at 844-365-6197 anytime, or go online at www.samsung.com.\",\n",
        "    \"LastPublishDate\": \"2016-10-27T00:00:00\"\n",
        "\n",
        "The query itself in this case is:\n",
        "\n",
        "    ?format=json&ProductType=Phone  \n",
        "\n",
        "The quert requests all of the recalls in JavaScript Object Notation (json) format, where the `ProductType` variable is equal to `Phone`. In addition to `ProductType`, other options include:\n",
        "\n",
        "    RecallID,\n",
        "    RecallNumber,\n",
        "    RecallDateStart,\n",
        "    RecallDateEnd,\n",
        "    RecallURL,\n",
        "    LastPublishDateStart,\n",
        "    LastPublishDateEnd,\n",
        "    RecallTitle,\n",
        "    ConsumerContact,\n",
        "    RecallDescription,\n",
        "    ProductName,\n",
        "    ProductDescription,\n",
        "    ProductModel,\n",
        "    ProductType,\n",
        "    InconjunctionURL,\n",
        "    ImageURL,\n",
        "    Injury,\n",
        "    Manufacturer,\n",
        "    Retailer,\n",
        "    Importer,\n",
        "    Distributor,\n",
        "    ManufacturerCountry,\n",
        "    UPC,\n",
        "    Hazard,\n",
        "    Remedy,\n",
        "    RemedyOption\n",
        "\n",
        "**1. Practice writing queries using the saferproducts.gov API and your web browser.**\n",
        "\n",
        "\n",
        "I did it!"
      ]
    },
    {
      "cell_type": "markdown",
      "metadata": {
        "id": "8Zwfi6ndgGP-"
      },
      "source": [
        "## Accessing API's with Python\n",
        "\n",
        "Anytime you use a computer to access resources on the Internet, you will likely run into problems. There are many options, but two with low coding overhead: The `requests` and `urrlib.requests` packages.\n",
        "\n",
        "The following code chunk uses the `requests` package to get the same kind of data that was being displayed in the browser, but in an interactive Python session:\n",
        "\n",
        "    import requests\n",
        "    url = 'https://www.saferproducts.gov/RestWebServices/' # Location of the API\n",
        "    query = 'Recall?format=json&ProductType=Exercise' # The query\n",
        "    header = {'User-Agent': 'Mozilla/5.0 (Windows NT 10.0; Win64; x64; rv:124.0)\n",
        "        Gecko/20100101 Firefox/124.0'} # The user-agent to avoid being blocked\n",
        "    raw = requests.get(url+query,headers=header) # Query the database\n",
        "    data = raw.json() # Convert data from json to dictionary\n",
        "\n",
        "To make the code easier to read, it separates the url and the query into two different strings, then concatenates them in the GET request. This makes it easier to edit the query, as well as suggests a simple way to loop over a number of queries that might be sent to the same API.\n",
        "\n",
        "Many resources are designed to block access from particular kinds of users. In order to circumvent these obstacles, you can specify a `header` dictionary that presents the query to the server as coming from a hypothetical and common user. In this case, the header presents the query as coming from a Firefox browser from a Windows computer, rather than something like `python-requests/3.12.1`. This problem appears generally in scraping data from the web, and can grind the process to a halt. For whatever reason, I have been blocked and gotten 403 errors with the `requests` package, which motivated me to prepare a second alternative that seems more robust:\n",
        "\n",
        "    import urllib.request\n",
        "    import json\n",
        "    url = 'https://www.saferproducts.gov/RestWebServices/' # Location of the API\n",
        "    query = 'Recall?format=json&ProductType=Exercise' # The query\n",
        "    response = urllib.request.urlopen(url+query)\n",
        "    response_bytes = response.read()\n",
        "    data = json.loads(response_bytes) # Convert response to json\n",
        "    response.close()\n",
        "\n",
        "This is a bit more code and some steps are a bit less human-friendly, but seems to work a bit more reliably than `requests`.\n",
        "\n",
        "**2. Practice with the saferproducts.gov API and the above code in a notebook to see how API's work, in general.**"
      ]
    },
    {
      "cell_type": "code",
      "source": [
        "import urllib.request\n",
        "import json\n",
        "import pandas as pd\n",
        "url = 'https://www.saferproducts.gov/RestWebServices/'\n",
        "query = 'Recall?format=json&ProductType=Watches'\n",
        "response = urllib.request.urlopen(url+query)\n",
        "response_bytes = response.read()\n",
        "data = json.loads(response_bytes)\n",
        "print(data)\n",
        "response.close()"
      ],
      "metadata": {
        "colab": {
          "base_uri": "https://localhost:8080/"
        },
        "id": "fWusFZo9OkPw",
        "outputId": "7bd18de8-076f-4b1a-dc60-f48e8681cd5b"
      },
      "execution_count": null,
      "outputs": [
        {
          "output_type": "stream",
          "name": "stdout",
          "text": [
            "[{'RecallID': 6468, 'RecallNumber': '15207', 'RecallDate': '2015-08-05T00:00:00', 'Description': 'This recall involves 303 styles of \"Light Up\" watches that are identified by style number. A complete list of the serial numbers is listed on the firm\\'s website http://www.regcen.com. The watches have a flexible plastic wristband sold in multiple colors including pink, pink with white snowflakes, green, blue and navy blue. \"MZB\" and the style number are printed on the case-back of the watches.', 'URL': 'https://www.cpsc.gov/Recalls/2015/MZB-Recalls-Childrens-Watches', 'Title': \"MZB Recalls Children's Watches Due to Risk of Skin Irritation\", 'ConsumerContact': 'MZB toll free at (888) 770-7085 from 8 a.m. to 7 p.m. ET Monday through Friday or online at www.mzb.com and click on Product Safety Notice tab at the top of the homepage for more information.', 'LastPublishDate': '2015-08-05T00:00:00', 'Products': [{'Name': 'MZB Children\\'s \"Light Up\" Watches', 'Description': '', 'Model': '', 'Type': 'Watches', 'CategoryID': '2228', 'NumberOfUnits': 'About 1.9 million (in addition, 58,000 were sold in Canada)'}], 'Inconjunctions': [{'URL': 'http://healthycanadians.gc.ca/recall-alert-rappel-avis/hc-sc/2015/54404r-eng.php'}], 'Images': [{'URL': 'https://www.cpsc.gov/s3fs-public/Recall.2015.15207.GenericWatches.jpg', 'Caption': 'Generic watches in multiple colors and designs'}, {'URL': 'https://www.cpsc.gov/s3fs-public/Recall.2015.15207.BackOfWatch.jpg', 'Caption': 'Back of watch'}], 'Injuries': [{'Name': 'The firm has received 11 reports of skin irritations or chemical burns. Six of these consumers have required medical treatment.'}], 'Manufacturers': [], 'Retailers': [{'Name': \"Kmart, Kohl's, Walmart and other retailers nationwide from October 2012 through June 2015 for between $5 and $20.\", 'CompanyID': ''}], 'Importers': [{'Name': 'MZB, of Long Island City, N.Y.', 'CompanyID': ''}], 'Distributors': [], 'SoldAtLabel': None, 'ManufacturerCountries': [{'Country': 'China'}], 'ProductUPCs': [], 'Hazards': [{'Name': 'The case-back of the watch can detach and expose the interior to water, posing a risk of skin irritation, redness, rashes or chemical burns.', 'HazardType': '', 'HazardTypeID': ''}], 'Remedies': [{'Name': 'Consumers should immediately take the recalled watches away from children and contact MZB for a refund.'}], 'RemedyOptions': [{'Option': 'Refund'}]}, {'RecallID': 597, 'RecallNumber': '11133', 'RecallDate': '2011-02-16T00:00:00', 'Description': 'This recall involves Buzz Lightyear, Tinker Bell and Lightning McQueen brand light-up watches. The Buzz Lightyear watch has a blue band with a blue outline on the face of the watch. The Tinker Bell watch has a purple band and purple crystals on the face of the watch. The Lightning McQueen watch has a red band and a red outline on the face of the watch. Each model watch is sold separately and is intended for children ages three years and older. All have a light up function that enables a child to press a button to illuminate colorful lights on the dial of the watch. A tracking code is engraved on the back of the watch, as well as printed on the back of the packaging. The tracking code is: K130-6377-7-10187.', 'URL': 'https://www.cpsc.gov/Recalls/2011/Walt-Disney-Parks-and-Resorts-Recalls-Childrens-Watches-Due-to-Risk-of-Skin-Irritation', 'Title': \"Walt Disney Parks and Resorts Recalls Children's Watches Due to Risk of Skin Irritation\", 'ConsumerContact': \"For additional information, contact Walt Disney Parks and Resorts at (877) 560-6477 between 9 a.m. and 5:30 p.m. ET Monday through Friday, or visit the firm's website at www.waltdisneyworld.com\", 'LastPublishDate': '2016-07-06T00:00:00', 'Products': [{'Name': \"Children's Light-up Watches\", 'Description': '', 'Model': '', 'Type': 'Watches', 'CategoryID': '2228', 'NumberOfUnits': 'About 1,200'}], 'Inconjunctions': [], 'Images': [{'URL': 'https://www.cpsc.gov/s3fs-public/11133.jpg', 'Caption': 'Recalled Light-up Watches'}], 'Injuries': [{'Name': 'The firm has received six reports of children receiving skin irritation or burning sensations while wearing the watch.'}], 'Manufacturers': [{'Name': 'Time Industrial Manufactory Limited, of Hong Kong', 'CompanyID': ''}], 'Retailers': [{'Name': \"DISNEYLAND® Resort stores in California, WALT DISNEY WORLD® Resort stores in Florida, The Treasure Ketch and Cast Member shops on the Disney Cruise Ship, and Disney's Earport Shop and The Magic of Disney Shop located at the Orlando International Airport in Florida from November 2010 through January 2011 for about $30.\", 'CompanyID': ''}], 'Importers': [{'Name': 'Walt Disney Parks and Resorts, of Lake Buena Vista, Fla.', 'CompanyID': ''}], 'Distributors': [], 'SoldAtLabel': None, 'ManufacturerCountries': [{'Country': 'China'}], 'ProductUPCs': [], 'Hazards': [{'Name': \"Watch battery current interacting with nickel in the watch's stainless steel back can cause skin irritation and/or burning sensations to children who are allergic to nickel.\", 'HazardType': '', 'HazardTypeID': ''}], 'Remedies': [{'Name': 'Consumers should immediately take the recalled watch away from children and contact Walt Disney Parks and Resorts for instructions on returning the watch for a $40 refund.'}], 'RemedyOptions': [{'Option': 'Refund'}]}, {'RecallID': 2994, 'RecallNumber': '05244', 'RecallDate': '2005-08-17T00:00:00', 'Description': 'August 17, 2005Release #05-244 Firm\\'s Recall Hotline: (800) 251-2522 CPSC Consumer Hotline: (800) 638-2772CPSC Media Contact: (301) 504-7908 CPSC, Almar Sales Co. Announce Recall of Children\\'s Watches WASHINGTON, D.C. - The U.S. Consumer Product Safety Commission announces the following recall in voluntary cooperation with the firm below. Consumers should stop using recalled products immediately unless otherwise instructed. It is illegal to resell or attempt to resell a recalled consumer product. Name of Product: Water Watch Units: About 50,400 Importer: Almar Sales Co. Inc., of New York, N.Y. Hazard: The band on the watch contains liquid petroleum distillates. If punctured the watch band could leak. Petroleum distillates could be harmful if ingested and cause irritation to the skin or eyes on contact. Incidents/Injuries: CPSC and Almar Sales Co. have received one report of a 2-year-old child who ingested the petroleum distillate after biting into the watch band. The child suffered irritation of the mouth and throat. Description: The watches are made of clear plastic with white snaps. The watch bands have clear glitter-filled liquid and colored liquid inside including pink, blue, red and yellow. The watch face is digital and measures about two inches in width. \"Water Watch\" and \"Almar Sales Company\" is printed on the original clear bubble packaging of the watches. Sold: Exclusively at Dollar General Stores nationwide from March 2005 through July 2005 for about $2. Manufactured in: China Remedy: Consumers should immediately take these watches away from young children and return the watches to the store where purchased for a refund or contact the firm. Consumer Contact: For additional information, contact Almar Sales at (800) 251-2522 between 9 a.m. and 4 p.m. ET Monday through Friday', 'URL': 'https://www.cpsc.gov/Recalls/2005/CPSC-Almar-Sales-Co-Announce-Recall-of-Childrens-Watches', 'Title': \"CPSC, Almar Sales Co. Announce Recall of Children's Watches\", 'ConsumerContact': None, 'LastPublishDate': '2014-05-23T00:00:00', 'Products': [{'Name': \"Almar Sales Company Children's Toy Water Watches\", 'Description': '', 'Model': '', 'Type': 'Watches', 'CategoryID': '2228', 'NumberOfUnits': ''}], 'Inconjunctions': [], 'Images': [], 'Injuries': [], 'Manufacturers': [{'Name': 'Almar Sales', 'CompanyID': ''}, {'Name': 'Dollar General', 'CompanyID': ''}], 'Retailers': [], 'Importers': [], 'Distributors': [], 'SoldAtLabel': None, 'ManufacturerCountries': [{'Country': 'China'}], 'ProductUPCs': [], 'Hazards': [{'Name': 'Poisoning', 'HazardType': '', 'HazardTypeID': ''}], 'Remedies': [], 'RemedyOptions': []}]\n"
          ]
        }
      ]
    },
    {
      "cell_type": "markdown",
      "metadata": {
        "id": "CWk9ceyRgGP_"
      },
      "source": [
        "## Wrangling the Data\n",
        "\n",
        "Piping the data to Pandas is easy, because the preceding code chunk put the JSON data into a native Python dictionary, and the following converts it to a dataframe:\n",
        "\n",
        "    df = pd.DataFrame.from_dict(data)\n",
        "\n",
        "If the data is in raw XML or JSON format --- which might especially be true with other API's --- it would instead be \\texttt{pd.read\\_xml(data)} or \\texttt{pd.read\\_json(data)}. Ironing out these details in advance for other applications is a key part of the presentation for students, but having students resolve these issues as a component of group work or an assignment is a great way to help them mature as coding problem solvers by struggling with documentation and a well-defined problem.\n",
        "\n",
        "Unfortunately, there aren't many non-text fields in the \\texttt{www.saferproducts.gov} data. However, there are a few fields of interest that can be tabulated and discussed, such as RemedyOptions and ManufacturerCountries:\n",
        "\n",
        "    df['RemedyOptions'].value_counts()\n",
        "\n",
        "with output\n",
        "\n",
        "    RemedyOptions\n",
        "    []                                                                               139\n",
        "    [{'Option': 'Repair'}]                                                            49\n",
        "    [{'Option': 'Replace'}]                                                           12\n",
        "    [{'Option': 'Refund'}]                                                             7\n",
        "    [{'Option': 'Replace'}, {'Option': 'Repair'}]                                      4\n",
        "    [{'Option': 'Refund'}, {'Option': 'Replace'}, {'Option': 'Repair'}]                1\n",
        "    [{'Option': 'Replace'}, {'Option': 'Refund'}]                                      1\n",
        "    [{'Option': 'Refund'}, {'Option': 'Repair'}]                                       1\n",
        "    [{'Option': 'Label'}]                                                              1\n",
        "    [{'Option': 'New Instructions'}, {'Option': 'Replace'}, {'Option': 'Refund'}]      1\n",
        "    Name: count, dtype: int64\n",
        "\n",
        "It's appropriate at this point to do some data cleaning, particularly by flattening dictionary entries. With response data that get converted from json to a dictionary, there are often values in the data frame that need to be flattened or unpacked. For example, some values are recorded as \\texttt{ [$\\{$'Country':'Canada'$\\}$]}, or, worse, a dictionary with multiple entries: \\texttt{[ $\\{$ 'Option': 'Replace'$\\}$, $\\{$'Option': 'Repair'$\\}$]  ] }. This can lead to problems when another package refuses to work with a lists of lists or doesn't know how to simplify a dictionary to data, and presents some conceptual questions when cleaning.\n",
        "\n",
        "A simple script to recursively collapse the dictionary entries into a single string is:\n",
        "\n",
        "    temp = df['RemedyOptions']\n",
        "    clean_values = []\n",
        "    for i in range(len(temp)):\n",
        "        if len(temp[i])>0:\n",
        "            values = []\n",
        "            for j in range(len(temp[i])):\n",
        "                values.append(temp[i][j]['Option'] )\n",
        "            clean_values.append(values)\n",
        "        else:\n",
        "            clean_values.append('')\n",
        "    df['remedy'] = clean_values\n",
        "\n",
        "**3. Convert this code chunk into a function you can reuse to flatten dictionaries, or explain clearly the problems you run into while attempting to do so. Make some tables or plots.**\n"
      ]
    },
    {
      "cell_type": "code",
      "source": [
        "df = pd.DataFrame.from_dict(data)\n",
        "temp = df['RemedyOptions']\n",
        "clean_values = []\n",
        "for i in range(len(temp)):\n",
        "    if len(temp[i])>0:\n",
        "        values = []\n",
        "        for j in range(len(temp[i])):\n",
        "            values.append(temp[i][j]['Option'] )\n",
        "        clean_values.append(values)\n",
        "    else:\n",
        "        clean_values.append('')\n",
        "df['remedy'] = clean_values\n",
        "\n",
        "df['RemedyOptions'].value_counts()\n",
        "\n",
        "df['remedy'].value_counts()\n",
        "# this code removes all remedy options it seems like\n",
        "# im not sure why exactly the counts reduce to 2"
      ],
      "metadata": {
        "id": "1k_HNoOkPPeq",
        "outputId": "063e9f8e-b856-4ee6-d17e-c72a1a8db770",
        "colab": {
          "base_uri": "https://localhost:8080/",
          "height": 178
        }
      },
      "execution_count": null,
      "outputs": [
        {
          "output_type": "execute_result",
          "data": {
            "text/plain": [
              "remedy\n",
              "[Refund]    2\n",
              "            1\n",
              "Name: count, dtype: int64"
            ],
            "text/html": [
              "<div>\n",
              "<style scoped>\n",
              "    .dataframe tbody tr th:only-of-type {\n",
              "        vertical-align: middle;\n",
              "    }\n",
              "\n",
              "    .dataframe tbody tr th {\n",
              "        vertical-align: top;\n",
              "    }\n",
              "\n",
              "    .dataframe thead th {\n",
              "        text-align: right;\n",
              "    }\n",
              "</style>\n",
              "<table border=\"1\" class=\"dataframe\">\n",
              "  <thead>\n",
              "    <tr style=\"text-align: right;\">\n",
              "      <th></th>\n",
              "      <th>count</th>\n",
              "    </tr>\n",
              "    <tr>\n",
              "      <th>remedy</th>\n",
              "      <th></th>\n",
              "    </tr>\n",
              "  </thead>\n",
              "  <tbody>\n",
              "    <tr>\n",
              "      <th>[Refund]</th>\n",
              "      <td>2</td>\n",
              "    </tr>\n",
              "    <tr>\n",
              "      <th></th>\n",
              "      <td>1</td>\n",
              "    </tr>\n",
              "  </tbody>\n",
              "</table>\n",
              "</div><br><label><b>dtype:</b> int64</label>"
            ]
          },
          "metadata": {},
          "execution_count": 13
        }
      ]
    },
    {
      "cell_type": "markdown",
      "metadata": {
        "id": "glTQ8P7ggGP_"
      },
      "source": [
        "## Dashboarding the Results (Optional)\n",
        "\n",
        "To complete the pipeline from data to product, we can use \\texttt{streamlit} to quickly convert Python code into a web page that can be accessed locally. This can be done with essentially three lines of code: An import statement, a $.title()$ method call to set the page title, and an $.write()$ call to push the results to the page. Although relatively static, completing this step serves a pedogogical and psychological purpose: It pivots the students to thinking about how to communicate results to an audience, and how the project could become an ongoing endeavor rather than a single analytical exercise.\n",
        "\n",
        "The entire .py file to create the dashboard is\n",
        "\n",
        "    import pandas as pd\n",
        "    import requests\n",
        "    import streamlit as st\n",
        "    # Conduct analysis:\n",
        "    url = 'https://www.saferproducts.gov/RestWebServices/Recall'\n",
        "    query = '?format=json&RecallTitle=Gas'\n",
        "    header = {'User-Agent':\n",
        "              'Mozilla/5.0 (Windows NT 10.0; Win64; x64; rv:124.0) Gecko/20100101 Firefox/124.0'}\n",
        "    raw = requests.get(url+query,headers=header)\n",
        "    data = raw.json()\n",
        "    df = pd.DataFrame.from_dict(data)\n",
        "    temp = df['RemedyOptions']\n",
        "    clean_values = []\n",
        "    for i in range(len(temp)):\n",
        "        if len(temp[i])>0:\n",
        "            values = []\n",
        "            for j in range(len(temp[i])):\n",
        "                values.append(temp[i][j]['Option'] )\n",
        "            clean_values.append(values)\n",
        "        else:\n",
        "            clean_values.append('')\n",
        "    df['remedy'] = clean_values\n",
        "    remedy_counts = df['remedy'].value_counts()\n",
        "    # Create streamlit output:\n",
        "    st.title('Remedy Statistics')\n",
        "    st.write(remedy_counts)\n",
        "\n",
        "To create the web page, run the following at the command line:\n",
        "\n",
        "    streamlit run remedy.py\n",
        "\n",
        "This should convert the above analysis into a web page available from localhost.\n",
        "\n",
        "**4. Produce your own table or plot, and output it to streamlit.**"
      ]
    },
    {
      "cell_type": "markdown",
      "metadata": {
        "id": "1ogbrOZYgGP_"
      },
      "source": [
        "## Other API Sources\n",
        "\n",
        "Valuable and interesting Federal API resources are listed at:\n",
        "\n",
        "    https://catalog.data.gov/dataset/?_res_format_limit=0&res_format=API\n",
        "\n",
        "and in the future will likely easily be found at \\texttt{data.gov}. Some highlights include:\n",
        "\n",
        "- CDC WONDER API for Data Query Web Service: Includes death certificates with causes since approximately the 1990's.\n",
        "- Comprehensive Housing Affordability Strategy (CHAS): Housing and Urban Development (HUD) maintains an API that provides Census data on housing problems and needs unavailable through other sources, including IPUMS.\n",
        "- Federal Election Commission API: Provides historical and up to the minute campaign finance data.\n",
        "- Toxic Release Inventory: Provided by the Environmental Protection Agency, this API documents the release and management of over 800 toxic substances, reported annually by privately owned facilities and the government.\n",
        "- Petroleum Data, Prices: Provides prices of petroleum products and crude oil at weekly, monthly, and yearly time scales.\n",
        "- Fair Market Rents Lookup tool: Fair Market Rents (FMRs) determine the value of housing vouchers for Section 8 renters. This API provides the FMR values and other measures of housing affordability.\n",
        "- Annual Economic Surveys, Business Patterns: Surveys of businesses at the zip code level, tracking economic sentiment and activity.\n",
        "- Food Access Research Atlas: Provides spatial data on food access and the availability of supermarkets within census tracts. Can be merged with census data to look at under-served populations and food deserts.\n",
        "- National Oceanographic and Atmospheric Administration: Provides API access to data on real time weather and climate change projections.\n",
        "\n",
        "Each of these API resources could either be the cornerstone of a project or a source of additional data. These data sources have a number of advantages: They're free, most of them can be accessed using the same API key, and most have similar documentation for how to write a query. This is ideal for students to iterate, experiment, and take risks, with little cost to failure.\n",
        "\n",
        "In addition to government data, many commerical apps provide API access to developers and researchers. AirBnB, Amazon, Reddit, eBay, X, and many others maintain API access to develop third-party apps. These opportunities present many advantages: The data are larger, have more variety, and there are vastly many more cases. Building a third-party app that includes analytics could easily consume an entire semester and open a variety of applications in predictive analytics, natural language processing, and generative AI (e.g. predict which reviews are fake or real for Amazon for a product group like ``women's watches', and then make recommendations for different price points). While an exciting possibility, this can also raise a lot of problems: Some API's cost money or are rate-limited depending on a subscription, and others impose significant constraints on how the data can be used. In some cases, a more useful approach might be explicit web scraping using a package like BeautifulSoup or Selenium. For example, Craigslist has no API, but can easily and productively be scraped using BeautifulSoup.\n",
        "\n",
        "**5. Pick an API, download some data, wrangle them, and produce some EDA results, as we did in the previous steps with the saferproducts.gov API; or, if you can't get it to work, document why. If you have the time and it's low cost, push the results to a streamlit page. If you have had enough, I recommend https://www.eia.gov/opendata/browser/electricity, since there is a friendly query builder that you can use to learn.**"
      ]
    },
    {
      "cell_type": "code",
      "source": [
        "import urllib.request\n",
        "import json\n",
        "import pandas as pd\n",
        "import matplotlib.pyplot as plt\n",
        "\n",
        "url = 'https://www.saferproducts.gov/RestWebServices/'\n",
        "query = 'Recall?format=json&ProductType=Furniture'\n",
        "response = urllib.request.urlopen(url+query)\n",
        "response_bytes = response.read()\n",
        "data = json.loads(response_bytes)\n",
        "response.close()\n",
        "\n",
        "df = pd.DataFrame.from_dict(data)\n",
        "# code to flatten modified and adapted using the help of chatGPT\n",
        "clean_values = []\n",
        "for temp in df['ManufacturerCountries']:\n",
        "    if len(temp) > 0:\n",
        "        for country_info in temp:\n",
        "            clean_values.append(country_info['Country'])\n",
        "    else:\n",
        "        clean_values.append('Unknown')\n",
        "df['countries'] = pd.Series(clean_values)\n",
        "\n",
        "\n",
        "df['countries'].value_counts()\n",
        "country_counts = pd.Series(clean_values).value_counts()\n",
        "plt.figure(figsize=(10, 6))\n",
        "country_counts.plot(kind='bar')\n",
        "plt.title('Number of Product Recalls by Manufacturer Country')\n",
        "plt.xlabel('Country')\n",
        "plt.ylabel('Number of Recalls')\n",
        "plt.xticks(rotation=45, ha='right')\n",
        "plt.tight_layout()\n",
        "plt.show()"
      ],
      "metadata": {
        "id": "-Xo9HD-eRGVS",
        "outputId": "a03f5c39-cbc9-4574-baaf-d92c0921e0ed",
        "colab": {
          "base_uri": "https://localhost:8080/",
          "height": 607
        }
      },
      "execution_count": null,
      "outputs": [
        {
          "output_type": "display_data",
          "data": {
            "text/plain": [
              "<Figure size 1000x600 with 1 Axes>"
            ],
            "image/png": "[encoded data removed]"
          },
          "metadata": {}
        }
      ]
    }
  ],
  "metadata": {
    "language_info": {
      "name": "python"
    },
    "colab": {
      "provenance": []
    },
    "kernelspec": {
      "name": "python3",
      "display_name": "Python 3"
    }
  },
  "nbformat": 4,
  "nbformat_minor": 0
}